{
 "cells": [
  {
   "cell_type": "code",
   "execution_count": 28,
   "metadata": {},
   "outputs": [],
   "source": [
    "import psycopg2\n",
    "conn = psycopg2.connect(\"dbname=thuctamdb user=postgres password=thuctam\")\n",
    "\n",
    "cur = conn.cursor()\n",
    "tablename = 'products'\n",
    "query = f'''\n",
    " CREATE TABLE {tablename}(\n",
    "    id SERIAL PRIMARY KEY,\n",
    "    images VARCHAR(1024),\n",
    "    fprice VARCHAR(1024),\n",
    "    category VARCHAR(1024),\n",
    "    titles VARCHAR(1024),\n",
    "    seller VARCHAR(1024),\n",
    "    rprice VARCHAR(1024),\n",
    "    discount VARCHAR(1024),\n",
    "    ratings VARCHAR(1024),\n",
    "    num_reviews VARCHAR(1024),\n",
    "    tikinow VARCHAR(1024),\n",
    "    productlink VARCHAR(1024)\n",
    " );'''\n",
    "# cur.execute()\n",
    "# conn.commit()"
   ]
  },
  {
   "cell_type": "code",
   "execution_count": 29,
   "metadata": {},
   "outputs": [],
   "source": [
    "#Reset\n",
    "#DANGER DO NOT RUN THIS CELL PRECARIOUSLY\n",
    "\n",
    "# tablename = 'test2'\n",
    "# query = f'DROP TABLE {tablename}'\n",
    "# cur.execute(query)\n",
    "# conn.commit()"
   ]
  },
  {
   "cell_type": "code",
   "execution_count": null,
   "metadata": {},
   "outputs": [],
   "source": [
    "#view table\n",
    "tablename = 'products'\n",
    "query = f'SELECT COUNT(*) FROM {tablename}'\n",
    "cur.execute(query)\n",
    "cur.fetchall()"
   ]
  },
  {
   "cell_type": "code",
   "execution_count": 23,
   "metadata": {},
   "outputs": [
    {
     "data": {
      "text/plain": [
       "[(87509,\n",
       "  'https://salt.tikicdn.com/cache/200x296/ts/product/2d/16/1f/1f0a5d9afad5711ba2dcfda5b94518f0.jpg',\n",
       "  89000,\n",
       "  'Thời trang - Phụ kiện',\n",
       "  'Thời Trang/Thời trang nữ/Giày dép nữ/Giày búp bê',\n",
       "  'Giày búp bê chất liệu nhựa dẻo thoáng mát cho ngày mưa 0307',\n",
       "  'OEM',\n",
       "  213000,\n",
       "  -58,\n",
       "  90,\n",
       "  12,\n",
       "  0,\n",
       "  'https://tiki.vn/giay-bup-be-chat-lieu-nhua-deo-thoang-mat-cho-ngay-mua-0307-p23377080.html?src=category-page-914&2hi=0'),\n",
       " (87508,\n",
       "  'https://salt.tikicdn.com/cache/200x296/ts/product/66/ec/31/b3de11de94f7cf3352d7be2789a64989.jpg',\n",
       "  149000,\n",
       "  'Thời trang - Phụ kiện',\n",
       "  'Thời Trang/Thời trang nữ/Đồ ngủ, đồ mặc nhà, đồ lót, đồ bơi/Quần lót nữ',\n",
       "  'Combo 10 quần lót nữ su thông hơi không đường may, hàng đẹp loại xịn W19_152, nhiều màu, vải thun lạnh, thông hơi, co giãn đàn hồi tốt, thấm hút tốt, phù hợp mọi lứa tuổi, có màu da, màu trắng, màu đen, quần lót nữ cao cấp',\n",
       "  'OEM',\n",
       "  297000,\n",
       "  -50,\n",
       "  100,\n",
       "  9,\n",
       "  1,\n",
       "  'https://tiki.vn/combo-10-quan-lot-nu-su-thong-hoi-khong-duong-may-hang-dep-loai-xin-w19_152-nhieu-mau-vai-thun-lanh-thong-hoi-co-gian-dan-hoi-tot-tham-hut-tot-phu-hop-moi-lua-tuoi-co-mau-da-mau-trang-mau-den-quan-lot-nu-cao-cap-p37564204.html?src=category-page-914&2hi=1'),\n",
       " (87507,\n",
       "  'https://salt.tikicdn.com/cache/200x296/ts/product/f5/be/50/ee34284ead90af06f0e325376c34b7fd.jpg',\n",
       "  139000,\n",
       "  'Thời trang - Phụ kiện',\n",
       "  'Thời Trang/Vali - Balo - Túi xách/Balo/Balo thời trang',\n",
       "  'Balo Đi Học Thời Trang Hàn Quốc Praza - BL176',\n",
       "  'Praza',\n",
       "  279000,\n",
       "  -50,\n",
       "  90,\n",
       "  10,\n",
       "  0,\n",
       "  'https://tiki.vn/balo-di-hoc-thoi-trang-han-quoc-praza-bl176-p32460218.html?src=category-page-914&2hi=0'),\n",
       " (87506,\n",
       "  'https://salt.tikicdn.com/cache/200x296/ts/product/c1/d3/81/269ed532ff2a94b5e064b08343b91c1c.jpg',\n",
       "  135000,\n",
       "  'Thời trang - Phụ kiện',\n",
       "  'Thời Trang/Vali - Balo - Túi xách/Balo, cặp, túi chống sốc laptop/Túi chống sốc',\n",
       "  'Túi Chống Sốc Macbook Laptop Cao Cấp 13,3 inch',\n",
       "  'OEM',\n",
       "  300000,\n",
       "  -55,\n",
       "  88,\n",
       "  31,\n",
       "  1,\n",
       "  'https://tiki.vn/tui-chong-soc-macbook-laptop-cao-cap-13-3-inch-p4612789.html?src=category-page-914&2hi=1'),\n",
       " (87505,\n",
       "  'https://salt.tikicdn.com/cache/200x296/ts/product/39/63/1b/d90033ced3f0609e6cc7836296a3d497.jpg',\n",
       "  89000,\n",
       "  'Thời trang - Phụ kiện',\n",
       "  'Thời Trang/Vali - Balo - Túi xách/Cặp, túi nam/Túi đeo chéo nam',\n",
       "  'Túi Đeo Chéo Nam Bằng Da Cao Cấp EMI BE90 (34 x 16 cm) - Đen',\n",
       "  'EMI',\n",
       "  130000,\n",
       "  -32,\n",
       "  84,\n",
       "  24,\n",
       "  1,\n",
       "  'https://tiki.vn/tui-deo-cheo-nam-bang-da-cao-cap-emi-be90-34-x-16-cm-den-p2492297.html?src=category-page-914&2hi=1')]"
      ]
     },
     "execution_count": 23,
     "metadata": {},
     "output_type": "execute_result"
    }
   ],
   "source": [
    "query = f'SELECT * FROM {tablename} ORDER BY id DESC LIMIT 5'\n",
    "cur.execute(query)\n",
    "cur.fetchall()"
   ]
  },
  {
   "cell_type": "code",
   "execution_count": null,
   "metadata": {},
   "outputs": [],
   "source": []
  }
 ],
 "metadata": {
  "kernelspec": {
   "display_name": "Python 3",
   "language": "python",
   "name": "python3"
  },
  "language_info": {
   "codemirror_mode": {
    "name": "ipython",
    "version": 3
   },
   "file_extension": ".py",
   "mimetype": "text/x-python",
   "name": "python",
   "nbconvert_exporter": "python",
   "pygments_lexer": "ipython3",
   "version": "3.7.4"
  }
 },
 "nbformat": 4,
 "nbformat_minor": 4
}
