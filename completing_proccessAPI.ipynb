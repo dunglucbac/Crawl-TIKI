{
  "nbformat": 4,
  "nbformat_minor": 0,
  "metadata": {
    "colab": {
      "name": "completing_proccessAPI.ipynb",
      "provenance": [],
      "collapsed_sections": [],
      "include_colab_link": true
    },
    "kernelspec": {
      "name": "python3",
      "display_name": "Python 3"
    }
  },
  "cells": [
    {
      "cell_type": "markdown",
      "metadata": {
        "id": "view-in-github",
        "colab_type": "text"
      },
      "source": [
        "<a href=\"https://colab.research.google.com/github/dunglucbac/Crawl-TIKI/blob/master/completing_proccessAPI.ipynb\" target=\"_parent\"><img src=\"https://colab.research.google.com/assets/colab-badge.svg\" alt=\"Open In Colab\"/></a>"
      ]
    },
    {
      "cell_type": "markdown",
      "metadata": {
        "id": "Dwzy9vQOSTes",
        "colab_type": "text"
      },
      "source": [
        "### EYEQ"
      ]
    },
    {
      "cell_type": "code",
      "metadata": {
        "id": "HTigeY9tGusG",
        "colab_type": "code",
        "colab": {
          "base_uri": "https://localhost:8080/",
          "height": 54
        },
        "outputId": "9d66b0a2-6f99-4091-cb41-98fc9fa02897"
      },
      "source": [
        "eyeq = {\n",
        "    \"message\": \"successful\",\n",
        "    \"results\": [\n",
        "        {\n",
        "            \"box\": {\n",
        "                \"xmin\": 478,\n",
        "                \"ymin\": 284,\n",
        "                \"xmax\": 539,\n",
        "                \"ymax\": 300\n",
        "            },\n",
        "            \"value\": \"61A66666\",\n",
        "            \"score\": 0.9,\n",
        "            \"vehicle\": {\n",
        "                \"score\": 0.895,\n",
        "                \"type\": \"Car\",\n",
        "                \"box\": {\n",
        "                    \"xmin\": 364,\n",
        "                    \"ymin\": 166,\n",
        "                    \"xmax\": 589,\n",
        "                    \"ymax\": 328\n",
        "                }\n",
        "            },\n",
        "            \"model_make\": {\n",
        "                \"make\": \"Mazda\",\n",
        "                \"model\": \"3\",\n",
        "                \"score\": 0.5975329279899597\n",
        "            },\n",
        "            \"color\": [\n",
        "                {\n",
        "                    \"color\": \"red\",\n",
        "                    \"score\": 0.78\n",
        "                },\n",
        "                {\n",
        "                    \"color\": \"white\",\n",
        "                    \"score\": 0.08\n",
        "                },\n",
        "                {\n",
        "                    \"color\": \"black\",\n",
        "                    \"score\": 0.04\n",
        "                }\n",
        "            ]\n",
        "        },\n",
        "        {\n",
        "            \"box\": {\n",
        "                \"xmin\": 122,\n",
        "                \"ymin\": 289,\n",
        "                \"xmax\": 184,\n",
        "                \"ymax\": 304\n",
        "            },\n",
        "            \"value\": \"48A55555\",\n",
        "            \"score\": 0.9,\n",
        "            \"vehicle\": {\n",
        "                \"score\": 0.909,\n",
        "                \"type\": \"Car\",\n",
        "                \"box\": {\n",
        "                    \"xmin\": 70,\n",
        "                    \"ymin\": 162,\n",
        "                    \"xmax\": 307,\n",
        "                    \"ymax\": 332\n",
        "                }\n",
        "            },\n",
        "            \"model_make\": {\n",
        "                \"make\": \"Toyota\",\n",
        "                \"model\": \"Corolla\",\n",
        "                \"score\": 0.7942538857460022\n",
        "            },\n",
        "            \"color\": [\n",
        "                {\n",
        "                    \"color\": \"black\",\n",
        "                    \"score\": 0.65\n",
        "                },\n",
        "                {\n",
        "                    \"color\": \"white\",\n",
        "                    \"score\": 0.1\n",
        "                },\n",
        "                {\n",
        "                    \"color\": \"grey\",\n",
        "                    \"score\": 0.08\n",
        "                }\n",
        "            ]\n",
        "        }\n",
        "    ]\n",
        "}\n",
        "\n",
        "print([eyeq])"
      ],
      "execution_count": null,
      "outputs": [
        {
          "output_type": "stream",
          "text": [
            "[{'message': 'successful', 'results': [{'box': {'xmin': 478, 'ymin': 284, 'xmax': 539, 'ymax': 300}, 'value': '61A66666', 'score': 0.9, 'vehicle': {'score': 0.895, 'type': 'Car', 'box': {'xmin': 364, 'ymin': 166, 'xmax': 589, 'ymax': 328}}, 'model_make': {'make': 'Mazda', 'model': '3', 'score': 0.5975329279899597}, 'color': [{'color': 'red', 'score': 0.78}, {'color': 'white', 'score': 0.08}, {'color': 'black', 'score': 0.04}]}, {'box': {'xmin': 122, 'ymin': 289, 'xmax': 184, 'ymax': 304}, 'value': '48A55555', 'score': 0.9, 'vehicle': {'score': 0.909, 'type': 'Car', 'box': {'xmin': 70, 'ymin': 162, 'xmax': 307, 'ymax': 332}}, 'model_make': {'make': 'Toyota', 'model': 'Corolla', 'score': 0.7942538857460022}, 'color': [{'color': 'black', 'score': 0.65}, {'color': 'white', 'score': 0.1}, {'color': 'grey', 'score': 0.08}]}]}]\n"
          ],
          "name": "stdout"
        }
      ]
    },
    {
      "cell_type": "code",
      "metadata": {
        "id": "534suYzbHLc8",
        "colab_type": "code",
        "colab": {
          "base_uri": "https://localhost:8080/",
          "height": 101
        },
        "outputId": "027c6ddc-8a00-4a58-b323-50fd98b7aa25"
      },
      "source": [
        "!pip install PyMySQL"
      ],
      "execution_count": null,
      "outputs": [
        {
          "output_type": "stream",
          "text": [
            "Collecting PyMySQL\n",
            "\u001b[?25l  Downloading https://files.pythonhosted.org/packages/ed/39/15045ae46f2a123019aa968dfcba0396c161c20f855f11dea6796bcaae95/PyMySQL-0.9.3-py2.py3-none-any.whl (47kB)\n",
            "\r\u001b[K     |██████▉                         | 10kB 18.1MB/s eta 0:00:01\r\u001b[K     |█████████████▊                  | 20kB 6.1MB/s eta 0:00:01\r\u001b[K     |████████████████████▋           | 30kB 7.4MB/s eta 0:00:01\r\u001b[K     |███████████████████████████▌    | 40kB 7.6MB/s eta 0:00:01\r\u001b[K     |████████████████████████████████| 51kB 2.8MB/s \n",
            "\u001b[?25hInstalling collected packages: PyMySQL\n",
            "Successfully installed PyMySQL-0.9.3\n"
          ],
          "name": "stdout"
        }
      ]
    },
    {
      "cell_type": "code",
      "metadata": {
        "id": "eZElBTuwHAx6",
        "colab_type": "code",
        "colab": {}
      },
      "source": [
        "import pandas as pd\n",
        "import sqlite3\n",
        "import pymysql.cursors"
      ],
      "execution_count": null,
      "outputs": []
    },
    {
      "cell_type": "code",
      "metadata": {
        "id": "Eu7pdIDqHThX",
        "colab_type": "code",
        "colab": {}
      },
      "source": [
        "def get_connection():\n",
        "  connection = pymysql.connect(host='34.92.161.180',\n",
        "                               user='ds_test',\n",
        "                               password='5UjxfJN3BxmW8qhuUhGpwx4ZTamJhNYrvGX8mKFE',\n",
        "                               db='ds_test',\n",
        "                               charset='utf8mb4',                              \n",
        "                               cursorclass=pymysql.cursors.DictCursor)\n",
        "  return connection"
      ],
      "execution_count": null,
      "outputs": []
    },
    {
      "cell_type": "code",
      "metadata": {
        "id": "bj_KwxxGJ4zE",
        "colab_type": "code",
        "colab": {}
      },
      "source": [
        "def process_data(eyeq, index):\n",
        "  box = list(eyeq['results'][index]['box'].values())\n",
        "\n",
        "  color = []\n",
        "  color_score = []\n",
        "  colors = [list(c.values()) for c in eyeq['results'][index]['color']]\n",
        "  for c in colors:\n",
        "    color.append(c[0])\n",
        "    color_score.append(c[1])\n",
        "\n",
        "  model_make = eyeq['results'][index]['model_make']['make']\n",
        "  model = eyeq['results'][index]['model_make']['model']\n",
        "  model_score = eyeq['results'][index]['model_make']['score']\n",
        "  value = eyeq['results'][index]['value']\n",
        "  vehicle_box = list(eyeq['results'][index]['vehicle']['box'].values())\n",
        "  vehicle_score = eyeq['results'][index]['vehicle']['score']\n",
        "  vehicle_type = eyeq['results'][index]['vehicle']['type']\n",
        "  value_score = eyeq['results'][index]['score']\n",
        "\n",
        "  return (box, value, value_score, vehicle_score, vehicle_type, vehicle_box, model_make, model, model_score, color, color_score)"
      ],
      "execution_count": null,
      "outputs": []
    },
    {
      "cell_type": "code",
      "metadata": {
        "id": "fq2WaZIaLY7t",
        "colab_type": "code",
        "colab": {}
      },
      "source": [
        "def insert_table(id_behind_image, message, box, value, value_score, vehicle_score, vehicle_type, vehicle_box, model_make, model, model_score, color, color_score, eyeq):\n",
        "  query = \"\"\"INSERT INTO request_history_eyeq (id_behind_image, message, lp_box, lp_value, lp_value_score, vehicle_type_score, vehicle_type, vehicle_box, vehicle_make, vehicle_model, vehicle_score, color, color_score, json) \n",
        "        VALUES (\"{}\", \"{}\", \"{}\", \"{}\", \"{}\", \"{}\", \"{}\", \"{}\", \"{}\", \"{}\", \"{}\", \"{}\", \"{}\", \"{}\"\n",
        "        )\"\"\".format(id_behind_image, message, box, value, value_score, vehicle_score, vehicle_type, vehicle_box, model_make, model, model_score, color, color_score, eyeq)\n",
        "  try:\n",
        "    cursor.execute(query)\n",
        "    print('inserted succesfully')\n",
        "  except Exception as err:\n",
        "    print('ERROR BY INSERT:', err)"
      ],
      "execution_count": null,
      "outputs": []
    },
    {
      "cell_type": "code",
      "metadata": {
        "id": "zBXBh62vQz6n",
        "colab_type": "code",
        "colab": {}
      },
      "source": [
        "def parse_data(eyeq):\n",
        "  connect = get_connection()\n",
        "  cursor = connect.cursor()\n",
        "\n",
        "  message = eyeq['message']\n",
        "  id_behind_image = \"4409baab7836c3e18b476ab0e7ae34d98ad4db80.jpeg\"\n",
        "  length_result = len(eyeq['results'])\n",
        "  \n",
        "  for i in range(length_result):\n",
        "    (box, value, value_score, vehicle_score, vehicle_type, vehicle_box, \n",
        "     model_make, model, model_score, color, color_score) = process_data(eyeq, i)\n",
        "    insert_table(id_behind_image, message, box, value, value_score, vehicle_score, vehicle_type, vehicle_box, \n",
        "                 model_make, model, model_score, color, color_score, eyeq)\n",
        "\n",
        "  connect.commit()"
      ],
      "execution_count": null,
      "outputs": []
    },
    {
      "cell_type": "code",
      "metadata": {
        "id": "MvYl5JasS9cO",
        "colab_type": "code",
        "colab": {
          "base_uri": "https://localhost:8080/",
          "height": 52
        },
        "outputId": "9506835f-5ed6-4fd9-ff09-5814fca1962e"
      },
      "source": [
        "parse_data(eyeq)"
      ],
      "execution_count": null,
      "outputs": [
        {
          "output_type": "stream",
          "text": [
            "inserted succesfully\n",
            "inserted succesfully\n"
          ],
          "name": "stdout"
        }
      ]
    },
    {
      "cell_type": "code",
      "metadata": {
        "id": "QRzl6YQJK-rL",
        "colab_type": "code",
        "colab": {
          "base_uri": "https://localhost:8080/",
          "height": 320
        },
        "outputId": "3d10f6a4-8717-47dc-cef2-9ca17c3078da"
      },
      "source": [
        "pd.read_sql_query('SELECT * FROM request_history_eyeq', connect)"
      ],
      "execution_count": null,
      "outputs": [
        {
          "output_type": "execute_result",
          "data": {
            "text/html": [
              "<div>\n",
              "<style scoped>\n",
              "    .dataframe tbody tr th:only-of-type {\n",
              "        vertical-align: middle;\n",
              "    }\n",
              "\n",
              "    .dataframe tbody tr th {\n",
              "        vertical-align: top;\n",
              "    }\n",
              "\n",
              "    .dataframe thead th {\n",
              "        text-align: right;\n",
              "    }\n",
              "</style>\n",
              "<table border=\"1\" class=\"dataframe\">\n",
              "  <thead>\n",
              "    <tr style=\"text-align: right;\">\n",
              "      <th></th>\n",
              "      <th>id</th>\n",
              "      <th>id_behind_image</th>\n",
              "      <th>message</th>\n",
              "      <th>lp_box</th>\n",
              "      <th>lp_value</th>\n",
              "      <th>lp_value_score</th>\n",
              "      <th>vehicle_type_score</th>\n",
              "      <th>vehicle_type</th>\n",
              "      <th>vehicle_box</th>\n",
              "      <th>vehicle_make</th>\n",
              "      <th>vehicle_model</th>\n",
              "      <th>vehicle_score</th>\n",
              "      <th>color</th>\n",
              "      <th>color_score</th>\n",
              "      <th>json</th>\n",
              "    </tr>\n",
              "  </thead>\n",
              "  <tbody>\n",
              "    <tr>\n",
              "      <th>0</th>\n",
              "      <td>2</td>\n",
              "      <td>4409baab7836c3e18b476ab0e7ae34d98ad4db80.jpeg</td>\n",
              "      <td>successful</td>\n",
              "      <td>[122, 289, 184, 304]</td>\n",
              "      <td>48A55555</td>\n",
              "      <td>0.9</td>\n",
              "      <td>0.909</td>\n",
              "      <td>Car</td>\n",
              "      <td>[70, 162, 307, 332]</td>\n",
              "      <td>Toyota</td>\n",
              "      <td>Corolla</td>\n",
              "      <td>0.7942538857460022</td>\n",
              "      <td>['black', 'white', 'grey']</td>\n",
              "      <td>[0.65, 0.1, 0.08]</td>\n",
              "      <td>{'message': 'successful', 'results': [{'box': ...</td>\n",
              "    </tr>\n",
              "    <tr>\n",
              "      <th>1</th>\n",
              "      <td>3</td>\n",
              "      <td>4409baab7836c3e18b476ab0e7ae34d98ad4db80.jpeg</td>\n",
              "      <td>successful</td>\n",
              "      <td>[478, 284, 539, 300]</td>\n",
              "      <td>61A66666</td>\n",
              "      <td>0.9</td>\n",
              "      <td>0.895</td>\n",
              "      <td>Car</td>\n",
              "      <td>[364, 166, 589, 328]</td>\n",
              "      <td>Mazda</td>\n",
              "      <td>3</td>\n",
              "      <td>0.5975329279899597</td>\n",
              "      <td>['red', 'white', 'black']</td>\n",
              "      <td>[0.78, 0.08, 0.04]</td>\n",
              "      <td>{'message': 'successful', 'results': [{'box': ...</td>\n",
              "    </tr>\n",
              "    <tr>\n",
              "      <th>2</th>\n",
              "      <td>4</td>\n",
              "      <td>4409baab7836c3e18b476ab0e7ae34d98ad4db80.jpeg</td>\n",
              "      <td>successful</td>\n",
              "      <td>[122, 289, 184, 304]</td>\n",
              "      <td>48A55555</td>\n",
              "      <td>0.9</td>\n",
              "      <td>0.909</td>\n",
              "      <td>Car</td>\n",
              "      <td>[70, 162, 307, 332]</td>\n",
              "      <td>Toyota</td>\n",
              "      <td>Corolla</td>\n",
              "      <td>0.7942538857460022</td>\n",
              "      <td>['black', 'white', 'grey']</td>\n",
              "      <td>[0.65, 0.1, 0.08]</td>\n",
              "      <td>{'message': 'successful', 'results': [{'box': ...</td>\n",
              "    </tr>\n",
              "  </tbody>\n",
              "</table>\n",
              "</div>"
            ],
            "text/plain": [
              "   id  ...                                               json\n",
              "0   2  ...  {'message': 'successful', 'results': [{'box': ...\n",
              "1   3  ...  {'message': 'successful', 'results': [{'box': ...\n",
              "2   4  ...  {'message': 'successful', 'results': [{'box': ...\n",
              "\n",
              "[3 rows x 15 columns]"
            ]
          },
          "metadata": {
            "tags": []
          },
          "execution_count": 50
        }
      ]
    },
    {
      "cell_type": "markdown",
      "metadata": {
        "id": "aDc_y9UTSa9K",
        "colab_type": "text"
      },
      "source": [
        "### GOOGLE VISION"
      ]
    },
    {
      "cell_type": "code",
      "metadata": {
        "id": "D9hfi1DyScWq",
        "colab_type": "code",
        "colab": {}
      },
      "source": [
        "gv = {\n",
        "  \"textAnnotations\": [\n",
        "    {\n",
        "      \"locale\": \"und\",\n",
        "      \"description\": \"29A\\n613.37\\n\",\n",
        "      \"boundingPoly\": {\n",
        "        \"vertices\": [\n",
        "          {\n",
        "            \"x\": 13,\n",
        "            \"y\": 5\n",
        "          },\n",
        "          {\n",
        "            \"x\": 258,\n",
        "            \"y\": 5\n",
        "          },\n",
        "          {\n",
        "            \"x\": 258,\n",
        "            \"y\": 193\n",
        "          },\n",
        "          {\n",
        "            \"x\": 13,\n",
        "            \"y\": 193\n",
        "          }\n",
        "        ]\n",
        "      }\n",
        "    },\n",
        "    {\n",
        "      \"description\": \"29A\",\n",
        "      \"boundingPoly\": {\n",
        "        \"vertices\": [\n",
        "          {\n",
        "            \"x\": 81,\n",
        "            \"y\": 5\n",
        "          },\n",
        "          {\n",
        "            \"x\": 231,\n",
        "            \"y\": 7\n",
        "          },\n",
        "          {\n",
        "            \"x\": 230,\n",
        "            \"y\": 95\n",
        "          },\n",
        "          {\n",
        "            \"x\": 80,\n",
        "            \"y\": 93\n",
        "          }\n",
        "        ]\n",
        "      }\n",
        "    },\n",
        "    {\n",
        "      \"description\": \"613.37\",\n",
        "      \"boundingPoly\": {\n",
        "        \"vertices\": [\n",
        "          {\n",
        "            \"x\": 13,\n",
        "            \"y\": 98\n",
        "          },\n",
        "          {\n",
        "            \"x\": 258,\n",
        "            \"y\": 99\n",
        "          },\n",
        "          {\n",
        "            \"x\": 258,\n",
        "            \"y\": 193\n",
        "          },\n",
        "          {\n",
        "            \"x\": 13,\n",
        "            \"y\": 192\n",
        "          }\n",
        "        ]\n",
        "      }\n",
        "    }\n",
        "  ],\n",
        "  \"fullTextAnnotation\": {\n",
        "    \"pages\": [\n",
        "      {\n",
        "        \"width\": 280,\n",
        "        \"height\": 200,\n",
        "        \"blocks\": [\n",
        "          {\n",
        "            \"boundingBox\": {\n",
        "              \"vertices\": [\n",
        "                {\n",
        "                  \"x\": 14,\n",
        "                  \"y\": 4\n",
        "                },\n",
        "                {\n",
        "                  \"x\": 259,\n",
        "                  \"y\": 6\n",
        "                },\n",
        "                {\n",
        "                  \"x\": 258,\n",
        "                  \"y\": 194\n",
        "                },\n",
        "                {\n",
        "                  \"x\": 13,\n",
        "                  \"y\": 192\n",
        "                }\n",
        "              ]\n",
        "            },\n",
        "            \"paragraphs\": [\n",
        "              {\n",
        "                \"boundingBox\": {\n",
        "                  \"vertices\": [\n",
        "                    {\n",
        "                      \"x\": 14,\n",
        "                      \"y\": 4\n",
        "                    },\n",
        "                    {\n",
        "                      \"x\": 259,\n",
        "                      \"y\": 6\n",
        "                    },\n",
        "                    {\n",
        "                      \"x\": 258,\n",
        "                      \"y\": 194\n",
        "                    },\n",
        "                    {\n",
        "                      \"x\": 13,\n",
        "                      \"y\": 192\n",
        "                    }\n",
        "                  ]\n",
        "                },\n",
        "                \"words\": [\n",
        "                  {\n",
        "                    \"boundingBox\": {\n",
        "                      \"vertices\": [\n",
        "                        {\n",
        "                          \"x\": 81,\n",
        "                          \"y\": 5\n",
        "                        },\n",
        "                        {\n",
        "                          \"x\": 231,\n",
        "                          \"y\": 7\n",
        "                        },\n",
        "                        {\n",
        "                          \"x\": 230,\n",
        "                          \"y\": 95\n",
        "                        },\n",
        "                        {\n",
        "                          \"x\": 80,\n",
        "                          \"y\": 93\n",
        "                        }\n",
        "                      ]\n",
        "                    },\n",
        "                    \"symbols\": [\n",
        "                      {\n",
        "                        \"boundingBox\": {\n",
        "                          \"vertices\": [\n",
        "                            {\n",
        "                              \"x\": 81,\n",
        "                              \"y\": 12\n",
        "                            },\n",
        "                            {\n",
        "                              \"x\": 121,\n",
        "                              \"y\": 12\n",
        "                            },\n",
        "                            {\n",
        "                              \"x\": 120,\n",
        "                              \"y\": 92\n",
        "                            },\n",
        "                            {\n",
        "                              \"x\": 80,\n",
        "                              \"y\": 92\n",
        "                            }\n",
        "                          ]\n",
        "                        },\n",
        "                        \"text\": \"2\"\n",
        "                      },\n",
        "                      {\n",
        "                        \"boundingBox\": {\n",
        "                          \"vertices\": [\n",
        "                            {\n",
        "                              \"x\": 129,\n",
        "                              \"y\": 6\n",
        "                            },\n",
        "                            {\n",
        "                              \"x\": 169,\n",
        "                              \"y\": 6\n",
        "                            },\n",
        "                            {\n",
        "                              \"x\": 168,\n",
        "                              \"y\": 93\n",
        "                            },\n",
        "                            {\n",
        "                              \"x\": 128,\n",
        "                              \"y\": 93\n",
        "                            }\n",
        "                          ]\n",
        "                        },\n",
        "                        \"text\": \"9\"\n",
        "                      },\n",
        "                      {\n",
        "                        \"property\": {\n",
        "                          \"detectedBreak\": {\n",
        "                            \"type\": \"EOL_SURE_SPACE\"\n",
        "                          }\n",
        "                        },\n",
        "                        \"boundingBox\": {\n",
        "                          \"vertices\": [\n",
        "                            {\n",
        "                              \"x\": 174,\n",
        "                              \"y\": 6\n",
        "                            },\n",
        "                            {\n",
        "                              \"x\": 231,\n",
        "                              \"y\": 7\n",
        "                            },\n",
        "                            {\n",
        "                              \"x\": 230,\n",
        "                              \"y\": 95\n",
        "                            },\n",
        "                            {\n",
        "                              \"x\": 173,\n",
        "                              \"y\": 94\n",
        "                            }\n",
        "                          ]\n",
        "                        },\n",
        "                        \"text\": \"A\"\n",
        "                      }\n",
        "                    ]\n",
        "                  },\n",
        "                  {\n",
        "                    \"boundingBox\": {\n",
        "                      \"vertices\": [\n",
        "                        {\n",
        "                          \"x\": 13,\n",
        "                          \"y\": 98\n",
        "                        },\n",
        "                        {\n",
        "                          \"x\": 258,\n",
        "                          \"y\": 99\n",
        "                        },\n",
        "                        {\n",
        "                          \"x\": 258,\n",
        "                          \"y\": 193\n",
        "                        },\n",
        "                        {\n",
        "                          \"x\": 13,\n",
        "                          \"y\": 192\n",
        "                        }\n",
        "                      ]\n",
        "                    },\n",
        "                    \"symbols\": [\n",
        "                      {\n",
        "                        \"boundingBox\": {\n",
        "                          \"vertices\": [\n",
        "                            {\n",
        "                              \"x\": 13,\n",
        "                              \"y\": 98\n",
        "                            },\n",
        "                            {\n",
        "                              \"x\": 84,\n",
        "                              \"y\": 98\n",
        "                            },\n",
        "                            {\n",
        "                              \"x\": 84,\n",
        "                              \"y\": 192\n",
        "                            },\n",
        "                            {\n",
        "                              \"x\": 13,\n",
        "                              \"y\": 192\n",
        "                            }\n",
        "                          ]\n",
        "                        },\n",
        "                        \"text\": \"6\"\n",
        "                      },\n",
        "                      {\n",
        "                        \"boundingBox\": {\n",
        "                          \"vertices\": [\n",
        "                            {\n",
        "                              \"x\": 85,\n",
        "                              \"y\": 98\n",
        "                            },\n",
        "                            {\n",
        "                              \"x\": 115,\n",
        "                              \"y\": 98\n",
        "                            },\n",
        "                            {\n",
        "                              \"x\": 115,\n",
        "                              \"y\": 192\n",
        "                            },\n",
        "                            {\n",
        "                              \"x\": 85,\n",
        "                              \"y\": 192\n",
        "                            }\n",
        "                          ]\n",
        "                        },\n",
        "                        \"text\": \"1\"\n",
        "                      },\n",
        "                      {\n",
        "                        \"boundingBox\": {\n",
        "                          \"vertices\": [\n",
        "                            {\n",
        "                              \"x\": 116,\n",
        "                              \"y\": 99\n",
        "                            },\n",
        "                            {\n",
        "                              \"x\": 163,\n",
        "                              \"y\": 99\n",
        "                            },\n",
        "                            {\n",
        "                              \"x\": 163,\n",
        "                              \"y\": 193\n",
        "                            },\n",
        "                            {\n",
        "                              \"x\": 116,\n",
        "                              \"y\": 193\n",
        "                            }\n",
        "                          ]\n",
        "                        },\n",
        "                        \"text\": \"3\"\n",
        "                      },\n",
        "                      {\n",
        "                        \"boundingBox\": {\n",
        "                          \"vertices\": [\n",
        "                            {\n",
        "                              \"x\": 164,\n",
        "                              \"y\": 99\n",
        "                            },\n",
        "                            {\n",
        "                              \"x\": 194,\n",
        "                              \"y\": 99\n",
        "                            },\n",
        "                            {\n",
        "                              \"x\": 194,\n",
        "                              \"y\": 193\n",
        "                            },\n",
        "                            {\n",
        "                              \"x\": 164,\n",
        "                              \"y\": 193\n",
        "                            }\n",
        "                          ]\n",
        "                        },\n",
        "                        \"text\": \".\"\n",
        "                      },\n",
        "                      {\n",
        "                        \"boundingBox\": {\n",
        "                          \"vertices\": [\n",
        "                            {\n",
        "                              \"x\": 195,\n",
        "                              \"y\": 99\n",
        "                            },\n",
        "                            {\n",
        "                              \"x\": 226,\n",
        "                              \"y\": 99\n",
        "                            },\n",
        "                            {\n",
        "                              \"x\": 226,\n",
        "                              \"y\": 193\n",
        "                            },\n",
        "                            {\n",
        "                              \"x\": 195,\n",
        "                              \"y\": 193\n",
        "                            }\n",
        "                          ]\n",
        "                        },\n",
        "                        \"text\": \"3\"\n",
        "                      },\n",
        "                      {\n",
        "                        \"property\": {\n",
        "                          \"detectedBreak\": {\n",
        "                            \"type\": \"LINE_BREAK\"\n",
        "                          }\n",
        "                        },\n",
        "                        \"boundingBox\": {\n",
        "                          \"vertices\": [\n",
        "                            {\n",
        "                              \"x\": 227,\n",
        "                              \"y\": 99\n",
        "                            },\n",
        "                            {\n",
        "                              \"x\": 258,\n",
        "                              \"y\": 99\n",
        "                            },\n",
        "                            {\n",
        "                              \"x\": 258,\n",
        "                              \"y\": 193\n",
        "                            },\n",
        "                            {\n",
        "                              \"x\": 227,\n",
        "                              \"y\": 193\n",
        "                            }\n",
        "                          ]\n",
        "                        },\n",
        "                        \"text\": \"7\"\n",
        "                      }\n",
        "                    ]\n",
        "                  }\n",
        "                ]\n",
        "              }\n",
        "            ],\n",
        "            \"blockType\": \"TEXT\"\n",
        "          }\n",
        "        ]\n",
        "      }\n",
        "    ],\n",
        "    \"text\": \"29A\\n613.37\\n\"\n",
        "  }\n",
        "}"
      ],
      "execution_count": null,
      "outputs": []
    },
    {
      "cell_type": "code",
      "metadata": {
        "id": "8fFf3yQ1e0SM",
        "colab_type": "code",
        "colab": {}
      },
      "source": [
        "conn = sqlite3.connect('gv.db')\n",
        "cursor = conn.cursor()"
      ],
      "execution_count": null,
      "outputs": []
    },
    {
      "cell_type": "code",
      "metadata": {
        "id": "f_RZA-4NpjNv",
        "colab_type": "code",
        "colab": {}
      },
      "source": [
        "connection = get_connection()\n",
        "cursor = connection.cursor()"
      ],
      "execution_count": null,
      "outputs": []
    },
    {
      "cell_type": "code",
      "metadata": {
        "id": "HmrCFXsafHaC",
        "colab_type": "code",
        "colab": {
          "base_uri": "https://localhost:8080/",
          "height": 54
        },
        "outputId": "1bae93a4-4ed9-41d5-c0ad-8550713f19d9"
      },
      "source": [
        "def createt_gv_table():\n",
        "  query = \"\"\"\n",
        "      CREATE TABLE IF NOT EXISTS request_history_ggvision(\n",
        "          id INTEGER PRIMARY KEY AUTOINCREMENT,\n",
        "          text_bounding TEXT,\n",
        "          text_des TEXT,\n",
        "          text_locale TEXT,\n",
        "          json TEXT\n",
        "      )\n",
        "  \"\"\"\n",
        "  try:\n",
        "    cursor.execute(query)\n",
        "  except Exception as err:\n",
        "    print('ERROR BY CREATE TABLE', err)\n",
        "createt_gv_table()"
      ],
      "execution_count": null,
      "outputs": [
        {
          "output_type": "stream",
          "text": [
            "ERROR BY CREATE TABLE (1064, \"You have an error in your SQL syntax; check the manual that corresponds to your MySQL server version for the right syntax to use near 'AUTOINCREMENT,\\n          text_bounding TEXT,\\n          text_des TEXT,\\n          ' at line 2\")\n"
          ],
          "name": "stdout"
        }
      ]
    },
    {
      "cell_type": "code",
      "metadata": {
        "id": "SUriLE_4bagR",
        "colab_type": "code",
        "colab": {}
      },
      "source": [
        "def insert_gv(text_bounding, text_des, text_locale, gv):\n",
        "  query = \"\"\" INSERT INTO request_history_ggvision (text_bounding, text_des, text_locale, json)\n",
        "              VALUES (\"{}\", \"{}\", \"{}\", \"{}\")\"\"\".format(text_bounding, text_des, text_locale, gv)\n",
        "  try:\n",
        "    cursor.execute(query)\n",
        "    print('inserted successfully')\n",
        "  except Exception as err:\n",
        "    print('ERROR BY INSERT:', err)"
      ],
      "execution_count": null,
      "outputs": []
    },
    {
      "cell_type": "code",
      "metadata": {
        "id": "0JIQ9p63dscJ",
        "colab_type": "code",
        "colab": {}
      },
      "source": [
        "def parse_gv(gv):\n",
        "  text_bounding = gv['textAnnotations'][0]['boundingPoly']['vertices']\n",
        "  text_des = gv['textAnnotations'][0]['description']\n",
        "  text_locale = gv['textAnnotations'][0]['locale']\n",
        "\n",
        "  insert_gv(text_bounding, text_des, text_locale, gv)"
      ],
      "execution_count": null,
      "outputs": []
    },
    {
      "cell_type": "code",
      "metadata": {
        "id": "YwdwunyKgVz4",
        "colab_type": "code",
        "colab": {
          "base_uri": "https://localhost:8080/",
          "height": 34
        },
        "outputId": "e50d5c4c-c328-4a13-a030-b7d341401e41"
      },
      "source": [
        "parse_gv(gv)"
      ],
      "execution_count": null,
      "outputs": [
        {
          "output_type": "stream",
          "text": [
            "inserted successfully\n"
          ],
          "name": "stdout"
        }
      ]
    },
    {
      "cell_type": "code",
      "metadata": {
        "id": "LS5C5s-wgGKr",
        "colab_type": "code",
        "colab": {}
      },
      "source": [
        "def select_all():\n",
        "  return cursor.execute('SELECT * FROM request_history_ggvision').fetchall()"
      ],
      "execution_count": null,
      "outputs": []
    },
    {
      "cell_type": "code",
      "metadata": {
        "id": "_N9l44-lgOnG",
        "colab_type": "code",
        "colab": {
          "base_uri": "https://localhost:8080/",
          "height": 115
        },
        "outputId": "3f819520-f404-436d-d2ac-b1c55717784d"
      },
      "source": [
        "pd.read_sql_query('SELECT * FROM request_history_ggvision', connection)"
      ],
      "execution_count": null,
      "outputs": [
        {
          "output_type": "execute_result",
          "data": {
            "text/html": [
              "<div>\n",
              "<style scoped>\n",
              "    .dataframe tbody tr th:only-of-type {\n",
              "        vertical-align: middle;\n",
              "    }\n",
              "\n",
              "    .dataframe tbody tr th {\n",
              "        vertical-align: top;\n",
              "    }\n",
              "\n",
              "    .dataframe thead th {\n",
              "        text-align: right;\n",
              "    }\n",
              "</style>\n",
              "<table border=\"1\" class=\"dataframe\">\n",
              "  <thead>\n",
              "    <tr style=\"text-align: right;\">\n",
              "      <th></th>\n",
              "      <th>id</th>\n",
              "      <th>text_bounding</th>\n",
              "      <th>text_des</th>\n",
              "      <th>text_locale</th>\n",
              "      <th>json</th>\n",
              "      <th>time_stamp</th>\n",
              "    </tr>\n",
              "  </thead>\n",
              "  <tbody>\n",
              "    <tr>\n",
              "      <th>0</th>\n",
              "      <td>1</td>\n",
              "      <td>[{'x': 13, 'y': 5}, {'x': 258, 'y': 5}, {'x': ...</td>\n",
              "      <td>29A\\n613.37\\n</td>\n",
              "      <td>und</td>\n",
              "      <td>{'textAnnotations': [{'locale': 'und', 'descri...</td>\n",
              "      <td>2020-07-15 08:47:36</td>\n",
              "    </tr>\n",
              "  </tbody>\n",
              "</table>\n",
              "</div>"
            ],
            "text/plain": [
              "   id  ...          time_stamp\n",
              "0   1  ... 2020-07-15 08:47:36\n",
              "\n",
              "[1 rows x 6 columns]"
            ]
          },
          "metadata": {
            "tags": []
          },
          "execution_count": 76
        }
      ]
    },
    {
      "cell_type": "code",
      "metadata": {
        "id": "FWiFpV8rgP9I",
        "colab_type": "code",
        "colab": {}
      },
      "source": [
        "connection.commit()"
      ],
      "execution_count": null,
      "outputs": []
    },
    {
      "cell_type": "markdown",
      "metadata": {
        "id": "7o-Mhb_3jcwj",
        "colab_type": "text"
      },
      "source": [
        "### Car_image"
      ]
    },
    {
      "cell_type": "code",
      "metadata": {
        "id": "1gZ_grB0jizG",
        "colab_type": "code",
        "colab": {}
      },
      "source": [
        "car_img = {\n",
        "   \"id_behind\":\"123.jpg\",\n",
        "   \"id_front\":\"456.jpg\",\n",
        "   \"license_plate_str\":\"51A1234\",\n",
        "   \"license_plate_b64\":\"apoiwejfoawijef\"\n",
        "}"
      ],
      "execution_count": null,
      "outputs": []
    },
    {
      "cell_type": "code",
      "metadata": {
        "id": "P46taAEtod76",
        "colab_type": "code",
        "colab": {
          "base_uri": "https://localhost:8080/",
          "height": 121
        },
        "outputId": "7100a199-a429-4492-9d6d-6e75b2cc3237"
      },
      "source": [
        "!pip install pymysql"
      ],
      "execution_count": null,
      "outputs": [
        {
          "output_type": "stream",
          "text": [
            "Collecting pymysql\n",
            "\u001b[?25l  Downloading https://files.pythonhosted.org/packages/ed/39/15045ae46f2a123019aa968dfcba0396c161c20f855f11dea6796bcaae95/PyMySQL-0.9.3-py2.py3-none-any.whl (47kB)\n",
            "\r\u001b[K     |██████▉                         | 10kB 14.4MB/s eta 0:00:01\r\u001b[K     |█████████████▊                  | 20kB 2.1MB/s eta 0:00:01\r\u001b[K     |████████████████████▋           | 30kB 2.8MB/s eta 0:00:01\r\u001b[K     |███████████████████████████▌    | 40kB 3.1MB/s eta 0:00:01\r\u001b[K     |████████████████████████████████| 51kB 1.7MB/s \n",
            "\u001b[?25hInstalling collected packages: pymysql\n",
            "Successfully installed pymysql-0.9.3\n"
          ],
          "name": "stdout"
        }
      ]
    },
    {
      "cell_type": "code",
      "metadata": {
        "id": "Wj06g93VmC_-",
        "colab_type": "code",
        "colab": {}
      },
      "source": [
        "import pandas as pd\n",
        "import sqlite3\n",
        "import pymysql.cursors"
      ],
      "execution_count": null,
      "outputs": []
    },
    {
      "cell_type": "code",
      "metadata": {
        "id": "JTjXae_Docwh",
        "colab_type": "code",
        "colab": {}
      },
      "source": [
        "conn = sqlite3.connect('car_img.db')\n",
        "cur = conn.cursor()"
      ],
      "execution_count": null,
      "outputs": []
    },
    {
      "cell_type": "code",
      "metadata": {
        "id": "y75i44nCo0vP",
        "colab_type": "code",
        "colab": {}
      },
      "source": [
        "id_behind = car_img['id_behind']\n",
        "id_front = car_img['id_front']\n",
        "lp_string = car_img['license_plate_str']\n",
        "lp_b64 = car_img['license_plate_b64']"
      ],
      "execution_count": null,
      "outputs": []
    },
    {
      "cell_type": "code",
      "metadata": {
        "id": "BKh7Ad4UqJ2K",
        "colab_type": "code",
        "colab": {}
      },
      "source": [
        "query = \"\"\"\n",
        "  \n",
        "\"\"\""
      ],
      "execution_count": null,
      "outputs": []
    }
  ]
}